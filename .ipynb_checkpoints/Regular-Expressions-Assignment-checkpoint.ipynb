{
 "cells": [
  {
   "cell_type": "markdown",
   "id": "c4929e60",
   "metadata": {},
   "source": [
    "# Regular Expressions Assigment\n",
    "By Mónica Atiaga\n",
    "\n",
    "Batch - DSNB1222"
   ]
  },
  {
   "cell_type": "markdown",
   "id": "29fed67c",
   "metadata": {},
   "source": [
    "#### Question 1\n",
    "Write a Python program to check that a string contains only a certain set of characters (in this case a-z, A-Z and 0-9)."
   ]
  },
  {
   "cell_type": "code",
   "execution_count": 2,
   "id": "37c29cb2",
   "metadata": {},
   "outputs": [],
   "source": [
    "import regex as re"
   ]
  },
  {
   "cell_type": "code",
   "execution_count": 3,
   "id": "a5e41c5a",
   "metadata": {},
   "outputs": [
    {
     "name": "stdout",
     "output_type": "stream",
     "text": [
      "Monica Contains only a-z, A-Z, and 0-9 characters\n",
      "Monica&2 Contains other characters than a-z, A-Z, and 0-9 characters\n",
      "Moni12342 Contains only a-z, A-Z, and 0-9 characters\n"
     ]
    }
   ],
   "source": [
    "def check_string(text):\n",
    "    pattern = r'^[a-zA-Z0-9]+$'\n",
    "    if (re.search(pattern, text )):\n",
    "        print(text, \"Contains only a-z, A-Z, and 0-9 characters\")\n",
    "    else:\n",
    "        print(text, \"Contains other characters than a-z, A-Z, and 0-9 characters\")\n",
    "    \n",
    "check_string('Monica')\n",
    "check_string('Monica&2')\n",
    "check_string('Moni12342')"
   ]
  },
  {
   "cell_type": "markdown",
   "id": "9ddc6217",
   "metadata": {},
   "source": [
    "#### Question 2\n",
    "Create a function in python that matches a string that has an a followed by zero or more b's"
   ]
  },
  {
   "cell_type": "code",
   "execution_count": 4,
   "id": "6575d152",
   "metadata": {},
   "outputs": [
    {
     "name": "stdout",
     "output_type": "stream",
     "text": [
      "abcc  : True\n",
      "xbb   : False\n",
      "ab    : True\n",
      "abbbbb: True\n",
      "a     : True\n",
      "Monica: True\n",
      "Monicab: True\n"
     ]
    }
   ],
   "source": [
    "def match_abs(text):\n",
    "    pattern = r'^.*ab*'\n",
    "    return (re.match(pattern, text) != None)\n",
    "    \n",
    "print('abcc  :',  match_abs('abcc'))\n",
    "print('xbb   :',  match_abs('xbb'))\n",
    "print('ab    :',  match_abs('ab'))\n",
    "print('abbbbb:',  match_abs('abbbbb'))\n",
    "print('a     :',  match_abs('a'))\n",
    "print('Monica:',  match_abs('Monica'))\n",
    "print('Monicab:',  match_abs('Monicab'))\n"
   ]
  },
  {
   "cell_type": "markdown",
   "id": "c3c8d325",
   "metadata": {},
   "source": [
    "#### Question 3\n",
    "Create a function in python that matches a string that has an a followed by one or more b's\n",
    "\n",
    "Assumptions: \n",
    "* The a can be anywhere in the string, not just at the beginning\n",
    "* The a just appear one time"
   ]
  },
  {
   "cell_type": "code",
   "execution_count": 5,
   "id": "f12c0f6c",
   "metadata": {},
   "outputs": [
    {
     "name": "stdout",
     "output_type": "stream",
     "text": [
      "abcc  : True\n",
      "xbb   : False\n",
      "ab    : True\n",
      "abbbbb: True\n",
      "a     : False\n",
      "Monica: False\n",
      "Monicab: True\n"
     ]
    }
   ],
   "source": [
    "def match_abs(text):\n",
    "    pattern = r'^.*ab+'\n",
    "#     print (re.match(pattern, text))\n",
    "    return (re.match(pattern, text) != None)\n",
    "    \n",
    "print('abcc  :',  match_abs('abcc'))\n",
    "print('xbb   :',  match_abs('xbb'))\n",
    "print('ab    :',  match_abs('ab'))\n",
    "print('abbbbb:',  match_abs('abbbbb'))\n",
    "print('a     :',  match_abs('a'))\n",
    "print('Monica:',  match_abs('Monica'))\n",
    "print('Monicab:',  match_abs('Monicab'))"
   ]
  },
  {
   "cell_type": "markdown",
   "id": "c1833e8b",
   "metadata": {},
   "source": [
    "#### Question 4\n",
    "Create a function in Python and use RegEx that matches a string that has an a followed by zero or one 'b'."
   ]
  },
  {
   "cell_type": "code",
   "execution_count": 6,
   "id": "04ba45d3",
   "metadata": {},
   "outputs": [
    {
     "name": "stdout",
     "output_type": "stream",
     "text": [
      "abcc  : True\n",
      "xbb   : False\n",
      "ab    : True\n",
      "abbbbb: True\n",
      "a     : True\n",
      "Monica: True\n",
      "Monicsb: False\n",
      "Monicab: True\n"
     ]
    }
   ],
   "source": [
    "def match_abs(text):  \n",
    "    pattern = r'^.*a(b)?'\n",
    "    return (re.match(pattern, text) != None)\n",
    "    \n",
    "print('abcc  :',  match_abs('abcc'))\n",
    "print('xbb   :',  match_abs('xbb'))\n",
    "print('ab    :',  match_abs('ab'))\n",
    "print('abbbbb:',  match_abs('abbbbb'))\n",
    "print('a     :',  match_abs('a'))\n",
    "print('Monica:',  match_abs('Monica'))\n",
    "print('Monicsb:',  match_abs('Monicsb'))\n",
    "print('Monicab:',  match_abs('Monicab'))"
   ]
  },
  {
   "cell_type": "markdown",
   "id": "f661526f",
   "metadata": {},
   "source": [
    "#### Question 5\n",
    "Write a Python program that matches a string that has an a followed by three 'b'."
   ]
  },
  {
   "cell_type": "code",
   "execution_count": 7,
   "id": "04ce90db",
   "metadata": {},
   "outputs": [
    {
     "name": "stdout",
     "output_type": "stream",
     "text": [
      "abcc  : False\n",
      "xbb   : False\n",
      "abbb    : True\n",
      "abbbbb: True\n",
      "a     : False\n",
      "Monica: False\n",
      "Monicsbbb: False\n",
      "Monicabbb: True\n"
     ]
    }
   ],
   "source": [
    "def match_abs(text):  \n",
    "    pattern = r'^.*a(b{3})+'\n",
    "    return (re.match(pattern, text) != None)\n",
    "    \n",
    "print('abcc  :',  match_abs('abcc'))\n",
    "print('xbb   :',  match_abs('xbb'))\n",
    "print('abbb    :',  match_abs('abbb'))\n",
    "print('abbbbb:',  match_abs('abbbbb'))\n",
    "print('a     :',  match_abs('a'))\n",
    "print('Monica:',  match_abs('Monica'))\n",
    "print('Monicsbbb:',  match_abs('Monicsbbb'))\n",
    "print('Monicabbb:',  match_abs('Monicabbb'))"
   ]
  },
  {
   "cell_type": "markdown",
   "id": "fddf4ab2",
   "metadata": {},
   "source": [
    "#### Question 6\n",
    "Write a regular expression in Python to split a string into uppercase letters.\n",
    "\n",
    "* Sample text: `\"ImportanceOfRegularExpressionsInPython\"`\n",
    "\n",
    "* Output: `[‘Importance’, ‘Of’, ‘Regular’, ‘Expression’, ‘In’, ‘Python’]`\n"
   ]
  },
  {
   "cell_type": "code",
   "execution_count": 8,
   "id": "836dee93",
   "metadata": {},
   "outputs": [
    {
     "name": "stdout",
     "output_type": "stream",
     "text": [
      "['Importance', 'Of', 'Regular', 'Expressions', 'In', 'Python']\n",
      "['Supervised', 'Learning', 'In', 'Python']\n"
     ]
    }
   ],
   "source": [
    "def split_upperletters(text):\n",
    "    pattern = r'[A-Z][^A-Z]*'\n",
    "    result = re.findall(pattern, text)\n",
    "    return result\n",
    "\n",
    "text = \"ImportanceOfRegularExpressionsInPython\"\n",
    "print(split_upperletters(text))\n",
    "\n",
    "text = \"SupervisedLearningInPython\"\n",
    "print(split_upperletters(text))\n"
   ]
  },
  {
   "cell_type": "markdown",
   "id": "fab26ccc",
   "metadata": {},
   "source": [
    "#### Question 7\n",
    "Write a Python program that matches a string that has an a followed by two to three 'b'.\n"
   ]
  },
  {
   "cell_type": "code",
   "execution_count": 9,
   "id": "1e799003",
   "metadata": {},
   "outputs": [
    {
     "name": "stdout",
     "output_type": "stream",
     "text": [
      "abcc  : False\n",
      "xbb   : False\n",
      "abbb  : True\n",
      "abb   : True\n",
      "a     : False\n",
      "Monica   : False\n",
      "Monicabb : True\n",
      "Monicabbb: True\n"
     ]
    }
   ],
   "source": [
    "def match_abs(text):  \n",
    "    pattern = r'^.*a(b{2,3})'\n",
    "    return (re.match(pattern, text) != None)\n",
    "    \n",
    "print('abcc  :',  match_abs('abcc'))\n",
    "print('xbb   :',  match_abs('xbb'))\n",
    "print('abbb  :',  match_abs('abbb'))\n",
    "print('abb   :',  match_abs('abb'))\n",
    "print('a     :',  match_abs('a'))\n",
    "print('Monica   :',  match_abs('Monica'))\n",
    "print('Monicabb :',  match_abs('Monicabb'))\n",
    "print('Monicabbb:',  match_abs('Monicabbb'))"
   ]
  },
  {
   "cell_type": "markdown",
   "id": "5748d0ba",
   "metadata": {},
   "source": [
    "#### Question 8\n",
    "Write a Python program to find sequences of lowercase letters joined with a underscore.\n"
   ]
  },
  {
   "cell_type": "code",
   "execution_count": 10,
   "id": "8e2ac8c7",
   "metadata": {},
   "outputs": [
    {
     "name": "stdout",
     "output_type": "stream",
     "text": [
      "['the_pattern_of_an_email', 'is_the_same_process', 'you_will_follow', 'you_want_to', 'create_a_regular_expression', 'will_be_the_syntax']\n"
     ]
    }
   ],
   "source": [
    "def find_lowercase_sequences(text):\n",
    "    pattern = r\"\\b[a-z]+(?:_[a-z]+)+\\b\"\n",
    "    #(?:) non-capturing group\n",
    "    \n",
    "    matches = re.findall(pattern, text)\n",
    "    return matches\n",
    "\n",
    "text = \"The_process_of_describing the_pattern_of_an_email is_the_same_process you_will_follow when you_want_to create_a_regular_expression. The_only_difference will_be_the_syntax.\"\n",
    "\n",
    "sequences = find_lowercase_sequences(text)\n",
    "print(sequences)"
   ]
  },
  {
   "cell_type": "markdown",
   "id": "b4fa2c6d",
   "metadata": {},
   "source": [
    "#### Question 9\n",
    "Write a Python program that matches a string that has an 'a' followed by anything, ending in 'b'.\n"
   ]
  },
  {
   "cell_type": "code",
   "execution_count": 11,
   "id": "e656e236",
   "metadata": {},
   "outputs": [
    {
     "name": "stdout",
     "output_type": "stream",
     "text": [
      "abcc  : False\n",
      "xbb   : False\n",
      "abbb  : True\n",
      "abb   : True\n",
      "a     : False\n",
      "Monica   : False\n",
      "Monicasb : True\n",
      "Monicabbb: True\n"
     ]
    }
   ],
   "source": [
    "def match_abs(text):  \n",
    "    pattern = r'^.*a.*b$'\n",
    "    return (re.match(pattern, text) != None)\n",
    "    \n",
    "print('abcc  :',  match_abs('abcc'))\n",
    "print('xbb   :',  match_abs('xbb'))\n",
    "print('abbb  :',  match_abs('abbb'))\n",
    "print('abb   :',  match_abs('abb'))\n",
    "print('a     :',  match_abs('a'))\n",
    "print('Monica   :',  match_abs('Monica'))\n",
    "print('Monicasb :',  match_abs('Monicabb'))\n",
    "print('Monicabbb:',  match_abs('Monicabbb'))"
   ]
  },
  {
   "cell_type": "markdown",
   "id": "faebfbd5",
   "metadata": {},
   "source": [
    "#### Question 10\n",
    "Write a Python program that matches a word at the beginning of a string.\n"
   ]
  },
  {
   "cell_type": "code",
   "execution_count": 12,
   "id": "7f460646",
   "metadata": {},
   "outputs": [
    {
     "name": "stdout",
     "output_type": "stream",
     "text": [
      "False\n",
      "True\n",
      "False\n",
      "True\n",
      "False\n"
     ]
    }
   ],
   "source": [
    "def match_word(text):  \n",
    "    pattern = r'^[A-Za-z]'\n",
    "    return (re.match(pattern, text) != None)\n",
    "    \n",
    "print( match_word(\"/hola mundo\"))\n",
    "print( match_word(\"hola mundo\"))\n",
    "print( match_word(\"1hola mundo\"))\n",
    "print( match_word(\"Good Morning Monica\"))\n",
    "print( match_word(\" Good Morning Monica\"))"
   ]
  },
  {
   "cell_type": "markdown",
   "id": "2d2f7b64",
   "metadata": {},
   "source": [
    "#### Question 11\n",
    "Write a Python program to match a string that contains only upper and lowercase letters, numbers, and underscores.\n"
   ]
  },
  {
   "cell_type": "code",
   "execution_count": 13,
   "id": "59ae1e49",
   "metadata": {},
   "outputs": [
    {
     "name": "stdout",
     "output_type": "stream",
     "text": [
      "False\n",
      "True\n",
      "True\n",
      "False\n",
      "True\n"
     ]
    }
   ],
   "source": [
    "def match_string(text):  \n",
    "    pattern = r'^[A-Za-z0-9_]+$'\n",
    "    return bool(re.match(pattern, text))\n",
    "    \n",
    "print( match_string(\"/HolaMundo\"))\n",
    "print( match_string(\"holaMundo_\"))\n",
    "print( match_string(\"1hola\"))\n",
    "print( match_string(\"Good Morning\"))\n",
    "print( match_string(\"Monica_Atiaga2\"))"
   ]
  },
  {
   "cell_type": "markdown",
   "id": "5c15f733",
   "metadata": {},
   "source": [
    "#### Question 12\n",
    "Write a Python program where a string will start with a specific number. \n"
   ]
  },
  {
   "cell_type": "code",
   "execution_count": 14,
   "id": "cb307881",
   "metadata": {},
   "outputs": [
    {
     "name": "stdout",
     "output_type": "stream",
     "text": [
      "True\n",
      "False\n",
      "False\n",
      "True\n",
      "False\n"
     ]
    }
   ],
   "source": [
    "def starts_with_number(text, number):\n",
    "    pattern = fr\"^{number}\"\n",
    "    match = re.match(pattern, text)\n",
    "    return bool(match)\n",
    "\n",
    "text1 = '123Moni'\n",
    "print(starts_with_number(text1, 123))\n",
    "print(starts_with_number(text1, 2))\n",
    "\n",
    "text2 = '9875654'\n",
    "print(starts_with_number(text2, 123))\n",
    "print(starts_with_number(text2, 98))\n",
    "print(starts_with_number(text2, 985))"
   ]
  },
  {
   "cell_type": "markdown",
   "id": "d9d40af4",
   "metadata": {},
   "source": [
    "#### Question 13\n",
    "Write a Python program to remove leading zeros from an IP address\n"
   ]
  },
  {
   "cell_type": "code",
   "execution_count": 15,
   "id": "91e41314",
   "metadata": {},
   "outputs": [
    {
     "name": "stdout",
     "output_type": "stream",
     "text": [
      "192.168.1.14\n",
      "192.168.1.14\n",
      "192.168.1.4\n"
     ]
    }
   ],
   "source": [
    "# Option 1\n",
    "def remove_zeros_fromip(ip_address):\n",
    "    elements = ip_address.split('.')\n",
    "    elements = [ str(int(el)) for el in elements]\n",
    "    return '.'.join(elements)\n",
    "\n",
    "ip = \"192.168.001.014\"\n",
    "ip_new = remove_zeros_fromip(ip)\n",
    "print(ip_new)\n",
    "\n",
    "\n",
    "# Option 2 with regex\n",
    "def remove_zeros_fromip_re(ip_address):\n",
    "    ip_new = re.sub(r'\\b0+(\\d)', r'\\1', ip_address)\n",
    "    return ip_new\n",
    "\n",
    "ip = \"192.168.001.014\"\n",
    "ip_new = remove_zeros_fromip_re(ip)\n",
    "print(ip_new)\n",
    "\n",
    "ip = \"192.168.001.004\"\n",
    "ip_new = remove_zeros_fromip_re(ip)\n",
    "print(ip_new)"
   ]
  },
  {
   "cell_type": "markdown",
   "id": "e3eff95c",
   "metadata": {},
   "source": [
    "#### Question 14\n",
    "Write a regular expression in python to match a date string in the form of Month name followed by day number and year stored in a text file.\n",
    "\n",
    "* _Sample text :_ `'On August 15th 1947 that India was declared independent from British colonialism, and the reins of control were handed over to the leaders of the Country’.`\n",
    "\n",
    "* _Output_ - `August 15th 1947`\n",
    "\n",
    "* _Hint_ - Use `re.match()` method here"
   ]
  },
  {
   "cell_type": "code",
   "execution_count": 16,
   "id": "0da31add",
   "metadata": {},
   "outputs": [
    {
     "data": {
      "text/plain": [
       "'August 15th 1947'"
      ]
     },
     "execution_count": 16,
     "metadata": {},
     "output_type": "execute_result"
    }
   ],
   "source": [
    "def find_date(text):\n",
    "    pattern = r\"\\b\\w+\\s+\\d+(?:st|nd|rd|th)?\\s+\\d{4}\\b\"\n",
    "    match = re.search(pattern, text)\n",
    "    if match:\n",
    "        return match.group()\n",
    "    else:\n",
    "        print('No match')\n",
    "        return None\n",
    "    \n",
    "txt = \"On August 15th 1947 that India was declared independent from British colonialism, and the reins of control were handed over to the leaders of the Country\"\n",
    "find_date(txt)\n"
   ]
  },
  {
   "cell_type": "code",
   "execution_count": 17,
   "id": "2b0b8ae1",
   "metadata": {},
   "outputs": [
    {
     "data": {
      "text/plain": [
       "'July 4th 1978'"
      ]
     },
     "execution_count": 17,
     "metadata": {},
     "output_type": "execute_result"
    }
   ],
   "source": [
    "txt = \"I was born on July 4th 1978\"\n",
    "find_date(txt)"
   ]
  },
  {
   "cell_type": "markdown",
   "id": "df9be96b",
   "metadata": {},
   "source": [
    "#### Question 15\n",
    "Write a Python program to search some literals strings in a string. Go to the editor\n",
    "- Sample text : `'The quick brown fox jumps over the lazy dog.'`\n",
    "- Searched words : `'fox', 'dog', 'horse'`"
   ]
  },
  {
   "cell_type": "code",
   "execution_count": 18,
   "id": "e3765150",
   "metadata": {},
   "outputs": [
    {
     "name": "stdout",
     "output_type": "stream",
     "text": [
      "['fox', 'dog']\n"
     ]
    }
   ],
   "source": [
    "# option 1\n",
    "def search_word(text, words):\n",
    "    found_words = []\n",
    "    for word in words:\n",
    "        if word in text: \n",
    "            found_words.append(word)\n",
    "    return found_words\n",
    "\n",
    "text = 'The quick brown fox jumps over the lazy dog.'\n",
    "s_words = ['fox', 'dog', 'horse']\n",
    "\n",
    "print (search_word (text, s_words))"
   ]
  },
  {
   "cell_type": "code",
   "execution_count": 19,
   "id": "94e28cc6",
   "metadata": {},
   "outputs": [
    {
     "name": "stdout",
     "output_type": "stream",
     "text": [
      "['fox', 'dog']\n"
     ]
    }
   ],
   "source": [
    "# option 2\n",
    "def search_word_re(text, words):\n",
    "    found_words = []\n",
    "    for word in words:\n",
    "        #pattern = fr'\\b{word}\\b'\n",
    "        pattern = r'\\b' + re.escape(word) + r'\\b'\n",
    "        #print(pattern)\n",
    "        if re.search(pattern, text):\n",
    "            found_words.append(word)\n",
    "    return found_words\n",
    "\n",
    "text = 'The quick brown fox jumps over the lazy dog.'\n",
    "s_words = ['fox', 'dog', 'horse']\n",
    "\n",
    "print (search_word_re (text, s_words))"
   ]
  },
  {
   "cell_type": "markdown",
   "id": "9eb52004",
   "metadata": {},
   "source": [
    "#### Question 16\n",
    "Write a Python program to search a literals string in a string and also find the location within the original string where the pattern occurs\n",
    "\n",
    "* Sample text : `'The quick brown fox jumps over the lazy dog.'`\n",
    "\n",
    "* Searched words : `'fox'`"
   ]
  },
  {
   "cell_type": "code",
   "execution_count": 20,
   "id": "66fed369",
   "metadata": {},
   "outputs": [
    {
     "name": "stdout",
     "output_type": "stream",
     "text": [
      "[{'Pos': (16, 19), 'Word': 'fox'}]\n"
     ]
    }
   ],
   "source": [
    "def search_word_re(text, words):\n",
    "    found_words = []\n",
    "    for word in words:\n",
    "        pattern = r'\\b' + re.escape(word) + r'\\b'\n",
    "        match = re.search(pattern, text)\n",
    "        if bool(match):\n",
    "            found_words.append({'Pos': match.span(), 'Word': word})\n",
    "    return found_words\n",
    "\n",
    "text = 'The quick brown fox jumps over the lazy dog.'\n",
    "s_words = ['fox']\n",
    "\n",
    "print (search_word_re (text, s_words))"
   ]
  },
  {
   "cell_type": "markdown",
   "id": "e797eaf9",
   "metadata": {},
   "source": [
    "####  Question 17\n",
    "Write a Python program to find the substrings within a string.\n",
    "\n",
    "* Sample text : `'Python exercises, PHP exercises, C# exercises'`\n",
    "\n",
    "* Pattern : `'exercises'`."
   ]
  },
  {
   "cell_type": "code",
   "execution_count": 21,
   "id": "303fda50",
   "metadata": {},
   "outputs": [
    {
     "data": {
      "text/plain": [
       "['exercises', 'exercises', 'exercises']"
      ]
     },
     "execution_count": 21,
     "metadata": {},
     "output_type": "execute_result"
    }
   ],
   "source": [
    "def find_substrings(text, pattern):\n",
    "    matches = re.findall(pattern, text)\n",
    "    return matches\n",
    "    \n",
    "txt = 'Python exercises, PHP exercises, C# exercises'\n",
    "pattern = 'exercises'\n",
    "\n",
    "find_substrings(txt, pattern)"
   ]
  },
  {
   "cell_type": "markdown",
   "id": "b83154d3",
   "metadata": {},
   "source": [
    "#### Question 18\n",
    "Write a Python program to find the occurrence and position of the substrings within a string.\n"
   ]
  },
  {
   "cell_type": "code",
   "execution_count": 22,
   "id": "fdaeece8",
   "metadata": {},
   "outputs": [
    {
     "data": {
      "text/plain": [
       "[(0, 4), (6, 10), (12, 16)]"
      ]
     },
     "execution_count": 22,
     "metadata": {},
     "output_type": "execute_result"
    }
   ],
   "source": [
    "def find_substring_positions(string, substring):\n",
    "    pattern = re.escape(substring)\n",
    "    matches = re.finditer(pattern, string)\n",
    "    positions = [match.span() for match in matches]\n",
    "    return positions\n",
    "\n",
    "text = \"hola, hola, hola mundo, Hola como estas?\"\n",
    "substring = \"hola\"\n",
    "\n",
    "find_substring_positions(text, substring)"
   ]
  },
  {
   "cell_type": "markdown",
   "id": "b5152c10",
   "metadata": {},
   "source": [
    "#### Question 19\n",
    "Write a Python program to convert a date of yyyy-mm-dd format to dd-mm-yyyy format.\n"
   ]
  },
  {
   "cell_type": "code",
   "execution_count": 23,
   "id": "2ce5854d",
   "metadata": {},
   "outputs": [
    {
     "name": "stdout",
     "output_type": "stream",
     "text": [
      "14-07-2023\n"
     ]
    }
   ],
   "source": [
    "def convert_date_format(date):\n",
    "    pattern = r'^(\\d{4})-(\\d{2})-(\\d{2})$'\n",
    "    match = re.match(pattern, date)\n",
    "    if match:\n",
    "        day = match.group(3)\n",
    "        month = match.group(2)\n",
    "        year = match.group(1)\n",
    "        converted_date = f\"{day}-{month}-{year}\"\n",
    "        return converted_date\n",
    "    else:\n",
    "        return \"Invalid date format\"\n",
    "\n",
    "date = \"2023-07-14\"\n",
    "new_date = convert_date_format(date)\n",
    "print(new_date)"
   ]
  },
  {
   "cell_type": "markdown",
   "id": "5fce99ef",
   "metadata": {},
   "source": [
    "#### Question 20\n",
    "Write a Python program to find all words starting with 'a' or 'e' in a given string.\n"
   ]
  },
  {
   "cell_type": "code",
   "execution_count": 24,
   "id": "38e48329",
   "metadata": {},
   "outputs": [
    {
     "name": "stdout",
     "output_type": "stream",
     "text": [
      "['An', 'apple', 'eaten', 'every', 'Emma']\n"
     ]
    }
   ],
   "source": [
    "def find_words_starting_with(text):\n",
    "    pattern = r'\\b[aAeE]\\w+\\b'\n",
    "    matches = re.findall(pattern, text)\n",
    "    return matches\n",
    "\n",
    "text = \"An apple is eaten every day by Emma.\"\n",
    "result = find_words_starting_with(text)\n",
    "print(result)"
   ]
  },
  {
   "cell_type": "markdown",
   "id": "6c142015",
   "metadata": {},
   "source": [
    "#### Question 21\n",
    "Write a Python program to separate and print the numbers and their position of a given string.\n"
   ]
  },
  {
   "cell_type": "code",
   "execution_count": 25,
   "id": "344204e4",
   "metadata": {},
   "outputs": [
    {
     "name": "stdout",
     "output_type": "stream",
     "text": [
      "Number: 123, Position: (6, 9)\n",
      "Number: 456, Position: (16, 19)\n",
      "Number: 895, Position: (25, 28)\n",
      "Number: 01, Position: (29, 31)\n"
     ]
    }
   ],
   "source": [
    "def print_numbers_with_positions(string):\n",
    "    pattern = r'\\b\\d+\\b'\n",
    "    matches = re.finditer(pattern, string)\n",
    "    for match in matches:\n",
    "        number = match.group()\n",
    "        position = match.span()\n",
    "        print(f\"Number: {number}, Position: {position}\")\n",
    "\n",
    "string = \"Hello 123 World 456 Moni 895 01\"\n",
    "print_numbers_with_positions(string)\n"
   ]
  },
  {
   "cell_type": "markdown",
   "id": "6564322d",
   "metadata": {},
   "source": [
    "#### Question 22\n",
    "Write a regular expression in python program to extract maximum numeric value from a string\n"
   ]
  },
  {
   "cell_type": "code",
   "execution_count": 26,
   "id": "bc5c2692",
   "metadata": {},
   "outputs": [
    {
     "name": "stdout",
     "output_type": "stream",
     "text": [
      "89\n"
     ]
    }
   ],
   "source": [
    "def extract_max_numeric_value(string):\n",
    "    pattern = r'\\b\\d+\\b'\n",
    "    numeric_values = re.findall(pattern, string)\n",
    "    if numeric_values:\n",
    "        max_value = max(map(int, numeric_values))\n",
    "        return max_value\n",
    "    else:\n",
    "        return None\n",
    "\n",
    "string = \"The maximum value is 35, but there are also 10 and 89\"\n",
    "max_value = extract_max_numeric_value(string)\n",
    "print(max_value)\n"
   ]
  },
  {
   "cell_type": "markdown",
   "id": "0b64d1a2",
   "metadata": {},
   "source": [
    "#### Question 23\n",
    "Write a Regex in Python to put spaces between words starting with capital letters\n"
   ]
  },
  {
   "cell_type": "code",
   "execution_count": 27,
   "id": "057aee28",
   "metadata": {},
   "outputs": [
    {
     "name": "stdout",
     "output_type": "stream",
     "text": [
      "The Movie Surprises Me Very Much And Marvel Movies Always Surprise Their Audience.\n"
     ]
    }
   ],
   "source": [
    "def add_spaces_between_words(string):\n",
    "    #pattern = r'(?=[A-Z])'\n",
    "    pattern = r'(?<!^)(?=[A-Z])'\n",
    "    new_string = re.sub(pattern, ' ', string)\n",
    "    return new_string\n",
    "\n",
    "string = \"TheMovieSurprisesMeVeryMuchAndMarvelMoviesAlwaysSurpriseTheirAudience.\"\n",
    "print(add_spaces_between_words(string))\n"
   ]
  },
  {
   "cell_type": "raw",
   "id": "eb4c66f7",
   "metadata": {},
   "source": [
    "    (?<!^): Negative lookbehind assertion \n",
    "    (?=[A-Z]): Positive lookahead assertion "
   ]
  },
  {
   "cell_type": "markdown",
   "id": "4cacfcd3",
   "metadata": {},
   "source": [
    "#### Question 24\n",
    "Python regex to find sequences of one upper case letter followed by lower case letters\n"
   ]
  },
  {
   "cell_type": "code",
   "execution_count": 28,
   "id": "76106c2d",
   "metadata": {},
   "outputs": [
    {
     "name": "stdout",
     "output_type": "stream",
     "text": [
      "['This', 'Example', 'With', 'Sequences', 'One', 'Upper', 'This', 'That']\n"
     ]
    }
   ],
   "source": [
    "def find_sequences_capital(text):\n",
    "    pattern = r\"[A-Z][a-z]+\"\n",
    "    matches = re.findall(pattern, text)\n",
    "    return(matches)\n",
    "\n",
    "text = \"This is an Example string With Sequences of One Upper case letter followed by lower case letters like This and That\"\n",
    "print(find_sequences_capital(text))"
   ]
  },
  {
   "cell_type": "markdown",
   "id": "f81a4de0",
   "metadata": {},
   "source": [
    "#### Question 25\n",
    "Write a Python program to remove duplicate words from Sentence using Regular Expression\n"
   ]
  },
  {
   "cell_type": "code",
   "execution_count": 29,
   "id": "2b842e34",
   "metadata": {},
   "outputs": [
    {
     "name": "stdout",
     "output_type": "stream",
     "text": [
      "This is a sentence with duplicate words to try out.\n"
     ]
    }
   ],
   "source": [
    "def remove_duplicate_words(sentence):\n",
    "    pattern = r\"\\b(\\w+)(?:\\W+\\1\\b)+\"\n",
    "    cleaned_sentence = re.sub(pattern, r'\\1', sentence)\n",
    "    return cleaned_sentence.strip()\n",
    "\n",
    "sentence = \"This is is a sentence with duplicate duplicate words words to try out out.\"\n",
    "cleaned_sentence = remove_duplicate_words(sentence)\n",
    "print(cleaned_sentence)"
   ]
  },
  {
   "cell_type": "markdown",
   "id": "113b6ab0",
   "metadata": {},
   "source": [
    "#### Question 26\n",
    "Write a python program using RegEx to accept string ending with alphanumeric character.\n"
   ]
  },
  {
   "cell_type": "code",
   "execution_count": 30,
   "id": "88125b1e",
   "metadata": {},
   "outputs": [
    {
     "name": "stdout",
     "output_type": "stream",
     "text": [
      "True\n",
      "False\n",
      "True\n"
     ]
    }
   ],
   "source": [
    "def accept_ending_alphanumeric(string):\n",
    "    pattern = r\"\\w$\"\n",
    "    match = re.search(pattern, string)\n",
    "    return bool(match)\n",
    "\n",
    "text1 = \"Moni123\"\n",
    "text2 = \"Goodbye!\"\n",
    "text3 = \"12345\"\n",
    "\n",
    "print(accept_ending_alphanumeric(text1))  # True\n",
    "print(accept_ending_alphanumeric(text2))  # False\n",
    "print(accept_ending_alphanumeric(text3))  # True\n"
   ]
  },
  {
   "cell_type": "markdown",
   "id": "ec8e6fe8",
   "metadata": {},
   "source": [
    "#### Question 27\n",
    "Write a python program using RegEx to extract the hashtags.\n",
    "\n",
    "Sample Text:\n",
    "\n",
    "`text = \"\"\"RT @kapil_kausik: #Doltiwal I mean #xyzabc is \"hurt\" by #Demonetization as the same has rendered USELESS <ed><U+00A0><U+00BD><ed><U+00B1><U+0089> \"acquired funds\" No wo\"\"\"`\n",
    "    \n",
    "Output: `['#Doltiwal', '#xyzabc', '#Demonetization']`"
   ]
  },
  {
   "cell_type": "code",
   "execution_count": 31,
   "id": "88c3a554",
   "metadata": {},
   "outputs": [
    {
     "name": "stdout",
     "output_type": "stream",
     "text": [
      "['#Doltiwal', '#xyzabc', '#Demonetization']\n"
     ]
    }
   ],
   "source": [
    "def extract_hashtags(text):\n",
    "    pattern = r'#\\w+'\n",
    "    hashtags = re.findall(pattern, text)\n",
    "    return hashtags\n",
    "\n",
    "text = \"\"\"RT @kapil_kausik: #Doltiwal I mean #xyzabc is \"hurt\" by #Demonetization as the same has rendered USELESS <ed><U+00A0><U+00BD><ed><U+00B1><U+0089> \"acquired funds\" No wo\"\"\"\n",
    "hashtags = extract_hashtags(text)\n",
    "print(hashtags)\n"
   ]
  },
  {
   "cell_type": "markdown",
   "id": "82407cfc",
   "metadata": {},
   "source": [
    "#### Question 28\n",
    "Write a python program using RegEx to remove <U+..> like symbols\n",
    "Check the below sample text, there are strange symbols something of the sort <U+..> all over the place. \n",
    "\n",
    "You need to come up with a general Regex expression that will cover all such symbols.\n",
    "\n",
    "Sample Text: \n",
    "\n",
    "`\"@Jags123456 Bharat band on 28??<ed><U+00A0><U+00BD><ed><U+00B8><U+0082>Those who  are protesting #demonetization  are all different party leaders\"`\n",
    "    \n",
    "Output: \n",
    "\n",
    "`@Jags123456 Bharat band on 28??<ed><ed>Those who  are protesting #demonetization  are all different party leaders`\n"
   ]
  },
  {
   "cell_type": "code",
   "execution_count": 32,
   "id": "b86def91",
   "metadata": {},
   "outputs": [
    {
     "name": "stdout",
     "output_type": "stream",
     "text": [
      "@Jags123456 Bharat band on 28??<ed><ed>Those who are protesting #demonetization are all different party leaders\n"
     ]
    }
   ],
   "source": [
    "def remove_U_plus_symbols(text):\n",
    "    pattern = r'<U\\+\\w{4}>'\n",
    "    cleaned_text = re.sub(pattern, '', text)\n",
    "    return cleaned_text\n",
    "\n",
    "text = \"@Jags123456 Bharat band on 28??<ed><U+00A0><U+00BD><ed><U+00B8><U+0082>Those who are protesting #demonetization are all different party leaders\"\n",
    "new_text = remove_U_plus_symbols(text)\n",
    "print(new_text)\n"
   ]
  },
  {
   "cell_type": "markdown",
   "id": "4f3b66ba",
   "metadata": {},
   "source": [
    "#### Question 29\n",
    "Write a python program to extract dates from the text stored in the text file.\n",
    "\n",
    "* Sample Text: \n",
    "\n",
    "    `Ron was born on 12-09-1992 and he was admitted to school 15-12-1999.`\n",
    "    \n",
    "Store this sample text in the file and then extract dates."
   ]
  },
  {
   "cell_type": "code",
   "execution_count": 33,
   "id": "dfb2a024",
   "metadata": {},
   "outputs": [
    {
     "name": "stdout",
     "output_type": "stream",
     "text": [
      "['12-09-1992', '15-12-1999']\n"
     ]
    }
   ],
   "source": [
    "def extract_dates_from_file(file_path):\n",
    "    with open(file_path, 'r') as file:\n",
    "        text = file.read()\n",
    "        pattern = r'\\d{2}-\\d{2}-\\d{4}'\n",
    "        dates = re.findall(pattern, text)\n",
    "        return dates\n",
    "\n",
    "file_path = 'Regular Expressions Assigment/sample_text.txt'\n",
    "dates = extract_dates_from_file(file_path)\n",
    "print(dates)\n"
   ]
  },
  {
   "cell_type": "markdown",
   "id": "55380910",
   "metadata": {},
   "source": [
    "#### Question 30\n",
    "Write a Python program to replace all occurrences of a space, comma, or dot with a colon.\n",
    "\n",
    "* Sample Text- `'Python Exercises, PHP exercises.'`\n",
    "* Output: `Python:Exercises::PHP:exercises:`"
   ]
  },
  {
   "cell_type": "code",
   "execution_count": 34,
   "id": "158b6115",
   "metadata": {},
   "outputs": [
    {
     "name": "stdout",
     "output_type": "stream",
     "text": [
      "Python:Exercises::PHP:exercises:\n"
     ]
    }
   ],
   "source": [
    "def replace_special_characters(text):\n",
    "    pattern = r'[\\s,.]'\n",
    "    replaced_text = re.sub(pattern, ':', text)\n",
    "    return replaced_text\n",
    "\n",
    "text = 'Python Exercises, PHP exercises.'\n",
    "new_text = replace_special_characters(text)\n",
    "print(new_text)\n"
   ]
  }
 ],
 "metadata": {
  "kernelspec": {
   "display_name": "Python 3 (ipykernel)",
   "language": "python",
   "name": "python3"
  },
  "language_info": {
   "codemirror_mode": {
    "name": "ipython",
    "version": 3
   },
   "file_extension": ".py",
   "mimetype": "text/x-python",
   "name": "python",
   "nbconvert_exporter": "python",
   "pygments_lexer": "ipython3",
   "version": "3.9.13"
  }
 },
 "nbformat": 4,
 "nbformat_minor": 5
}
