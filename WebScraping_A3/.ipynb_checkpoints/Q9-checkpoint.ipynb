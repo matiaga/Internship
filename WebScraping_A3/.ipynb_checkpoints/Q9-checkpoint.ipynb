{
 "cells": [
  {
   "cell_type": "markdown",
   "id": "bc0a22a2",
   "metadata": {},
   "source": [
    "9. Write a python program to scrape a data for all available Hostels from https://www.hostelworld.com/ in “London” location. You have to scrape hostel name, distance from city centre, ratings, total reviews, overall reviews, privates from price, dorms from price, facilities and property description. "
   ]
  },
  {
   "cell_type": "code",
   "execution_count": 19,
   "id": "4190db09",
   "metadata": {},
   "outputs": [],
   "source": [
    "# Importing libraries \n",
    "import selenium\n",
    "import pandas as pd\n",
    "from selenium import webdriver\n",
    "import warnings\n",
    "warnings.filterwarnings('ignore')\n",
    "from selenium.webdriver.common.by import By\n",
    "from selenium.webdriver.support.ui import WebDriverWait\n",
    "from selenium.webdriver.common.action_chains import ActionChains\n",
    "from selenium.webdriver.support import expected_conditions as EC\n",
    "from selenium.webdriver.common.keys import Keys\n",
    "from selenium.common.exceptions import ElementClickInterceptedException, NoSuchElementException, ElementNotInteractableException\n",
    "\n",
    "import time"
   ]
  },
  {
   "cell_type": "code",
   "execution_count": 40,
   "id": "9f46ac15",
   "metadata": {},
   "outputs": [],
   "source": [
    "driver.quit()"
   ]
  },
  {
   "cell_type": "code",
   "execution_count": 41,
   "id": "56fb63ef",
   "metadata": {},
   "outputs": [],
   "source": [
    "url = 'https://www.hostelworld.com/'\n",
    "location = 'London'\n",
    "\n",
    "# Set up the WebDriver \n",
    "driver = webdriver.Chrome()\n",
    "driver.get(url)\n",
    "\n",
    "wait_time = 3\n",
    "time.sleep(wait_time)"
   ]
  },
  {
   "cell_type": "code",
   "execution_count": null,
   "id": "cc834c2d",
   "metadata": {},
   "outputs": [],
   "source": [
    "try:\n",
    "    \n",
    "except Exception as e:\n",
    "    print(f\"No se encontró el elemento. {e.msg}\")\n",
    "    driver.get(\"\")"
   ]
  },
  {
   "cell_type": "code",
   "execution_count": 59,
   "id": "fb0b5bc5",
   "metadata": {},
   "outputs": [
    {
     "name": "stdout",
     "output_type": "stream",
     "text": [
      "1\n",
      "0 <div data-v-424cd608=\"\" data-v-bc384dfe=\"\" class=\"input input-strip\"><div data-v-424cd608=\"\" class=\"input-inner\"><div data-v-b37ce526=\"\" class=\"icon-container input-prefix\"><svg data-v-b37ce526=\"\" width=\"16\" height=\"16\" xmlns=\"http://www.w3.org/2000/svg\"><use data-v-b37ce526=\"\" xlinkHref=\"#location-pin\" href=\"#location-pin\"></use></svg></div><div data-v-424cd608=\"\" class=\"input-wrapper\"><label data-v-424cd608=\"\" class=\"input-label\"> Where do you want to go? </label><input data-v-424cd608=\"\" type=\"text\" class=\"native-input body-1-reg\"></div><div data-v-424cd608=\"\" class=\"input-suffix\"><!----></div></div><!----></div>\n",
      "<class 'selenium.webdriver.remote.webelement.WebElement'>\n",
      "<input data-v-424cd608=\"\" type=\"text\" class=\"native-input body-1-reg\">\n"
     ]
    }
   ],
   "source": [
    "# class=\"native-input body-1-reg\"\n",
    "# loc_input = driver.find_elements(By.CLASS_NAME, \"destination-selection\")\n",
    "loc_input = driver.find_elements(By.XPATH, '//div[@class=\"destination-field\"]')\n",
    "# loc_input = driver.find_elements(By.CLASS_NAME, \"native-input body-1-reg\")\n",
    "\n",
    "print(len(loc_input))\n",
    "\n",
    "\n",
    "for i, tag in enumerate(loc_input):\n",
    "    print(i, tag.get_attribute(\"innerHTML\"))\n",
    "    print(type(tag))\n",
    "    tag_input = tag.find_element(By.TAG_NAME, \"input\" )\n",
    "    print(tag_input.get_attribute(\"outerHTML\"))\n",
    "    \n",
    "    tag_input.send_keys(location)"
   ]
  },
  {
   "cell_type": "code",
   "execution_count": 32,
   "id": "961d7f67",
   "metadata": {},
   "outputs": [
    {
     "ename": "InvalidSelectorException",
     "evalue": "Message: invalid selector: An invalid or illegal selector was specified\n  (Session info: chrome=115.0.5790.170); For documentation on this error, please visit: https://www.selenium.dev/documentation/webdriver/troubleshooting/errors#invalid-selector-exception\nStacktrace:\nBacktrace:\n\tGetHandleVerifier [0x00CA6E73+48323]\n\t(No symbol) [0x00C39661]\n\t(No symbol) [0x00B45308]\n\t(No symbol) [0x00B48751]\n\t(No symbol) [0x00B49991]\n\t(No symbol) [0x00B49A30]\n\t(No symbol) [0x00B707BC]\n\t(No symbol) [0x00B70CDB]\n\t(No symbol) [0x00B9E40C]\n\t(No symbol) [0x00B8A924]\n\t(No symbol) [0x00B9CAC2]\n\t(No symbol) [0x00B8A6D6]\n\t(No symbol) [0x00B6847C]\n\t(No symbol) [0x00B6957D]\n\tGetHandleVerifier [0x00F0FD5D+2575277]\n\tGetHandleVerifier [0x00F4F86E+2836158]\n\tGetHandleVerifier [0x00F496DC+2811180]\n\tGetHandleVerifier [0x00D341B0+626688]\n\t(No symbol) [0x00C4314C]\n\t(No symbol) [0x00C3F4B8]\n\t(No symbol) [0x00C3F59B]\n\t(No symbol) [0x00C321B7]\n\tBaseThreadInitThunk [0x74D700C9+25]\n\tRtlGetAppContainerNamedObjectPath [0x76F17B1E+286]\n\tRtlGetAppContainerNamedObjectPath [0x76F17AEE+238]\n",
     "output_type": "error",
     "traceback": [
      "\u001b[1;31m---------------------------------------------------------------------------\u001b[0m",
      "\u001b[1;31mInvalidSelectorException\u001b[0m                  Traceback (most recent call last)",
      "\u001b[1;32m~\\AppData\\Local\\Temp\\ipykernel_14380\\3560162978.py\u001b[0m in \u001b[0;36m<module>\u001b[1;34m\u001b[0m\n\u001b[0;32m      7\u001b[0m \u001b[1;31m#InvalidSelectorException\u001b[0m\u001b[1;33m\u001b[0m\u001b[1;33m\u001b[0m\u001b[0m\n\u001b[0;32m      8\u001b[0m \u001b[1;33m\u001b[0m\u001b[0m\n\u001b[1;32m----> 9\u001b[1;33m \u001b[0mloc_input\u001b[0m \u001b[1;33m=\u001b[0m \u001b[0mdriver\u001b[0m\u001b[1;33m.\u001b[0m\u001b[0mfind_elements\u001b[0m\u001b[1;33m(\u001b[0m\u001b[0mBy\u001b[0m\u001b[1;33m.\u001b[0m\u001b[0mNAME\u001b[0m\u001b[1;33m,\u001b[0m \u001b[0mxpath_input\u001b[0m\u001b[1;33m)\u001b[0m\u001b[1;33m\u001b[0m\u001b[1;33m\u001b[0m\u001b[0m\n\u001b[0m\u001b[0;32m     10\u001b[0m \u001b[0mprint\u001b[0m\u001b[1;33m(\u001b[0m\u001b[0mlen\u001b[0m\u001b[1;33m(\u001b[0m\u001b[0mloc_input\u001b[0m\u001b[1;33m)\u001b[0m\u001b[1;33m)\u001b[0m\u001b[1;33m\u001b[0m\u001b[1;33m\u001b[0m\u001b[0m\n\u001b[0;32m     11\u001b[0m \u001b[1;31m# loc_input[0].send_keys(location)\u001b[0m\u001b[1;33m\u001b[0m\u001b[1;33m\u001b[0m\u001b[0m\n",
      "\u001b[1;32m~\\anaconda3\\lib\\site-packages\\selenium\\webdriver\\remote\\webdriver.py\u001b[0m in \u001b[0;36mfind_elements\u001b[1;34m(self, by, value)\u001b[0m\n\u001b[0;32m    768\u001b[0m         \u001b[1;31m# Return empty list if driver returns null\u001b[0m\u001b[1;33m\u001b[0m\u001b[1;33m\u001b[0m\u001b[0m\n\u001b[0;32m    769\u001b[0m         \u001b[1;31m# See https://github.com/SeleniumHQ/selenium/issues/4555\u001b[0m\u001b[1;33m\u001b[0m\u001b[1;33m\u001b[0m\u001b[0m\n\u001b[1;32m--> 770\u001b[1;33m         \u001b[1;32mreturn\u001b[0m \u001b[0mself\u001b[0m\u001b[1;33m.\u001b[0m\u001b[0mexecute\u001b[0m\u001b[1;33m(\u001b[0m\u001b[0mCommand\u001b[0m\u001b[1;33m.\u001b[0m\u001b[0mFIND_ELEMENTS\u001b[0m\u001b[1;33m,\u001b[0m \u001b[1;33m{\u001b[0m\u001b[1;34m\"using\"\u001b[0m\u001b[1;33m:\u001b[0m \u001b[0mby\u001b[0m\u001b[1;33m,\u001b[0m \u001b[1;34m\"value\"\u001b[0m\u001b[1;33m:\u001b[0m \u001b[0mvalue\u001b[0m\u001b[1;33m}\u001b[0m\u001b[1;33m)\u001b[0m\u001b[1;33m[\u001b[0m\u001b[1;34m\"value\"\u001b[0m\u001b[1;33m]\u001b[0m \u001b[1;32mor\u001b[0m \u001b[1;33m[\u001b[0m\u001b[1;33m]\u001b[0m\u001b[1;33m\u001b[0m\u001b[1;33m\u001b[0m\u001b[0m\n\u001b[0m\u001b[0;32m    771\u001b[0m \u001b[1;33m\u001b[0m\u001b[0m\n\u001b[0;32m    772\u001b[0m     \u001b[1;33m@\u001b[0m\u001b[0mproperty\u001b[0m\u001b[1;33m\u001b[0m\u001b[1;33m\u001b[0m\u001b[0m\n",
      "\u001b[1;32m~\\anaconda3\\lib\\site-packages\\selenium\\webdriver\\remote\\webdriver.py\u001b[0m in \u001b[0;36mexecute\u001b[1;34m(self, driver_command, params)\u001b[0m\n\u001b[0;32m    344\u001b[0m         \u001b[0mresponse\u001b[0m \u001b[1;33m=\u001b[0m \u001b[0mself\u001b[0m\u001b[1;33m.\u001b[0m\u001b[0mcommand_executor\u001b[0m\u001b[1;33m.\u001b[0m\u001b[0mexecute\u001b[0m\u001b[1;33m(\u001b[0m\u001b[0mdriver_command\u001b[0m\u001b[1;33m,\u001b[0m \u001b[0mparams\u001b[0m\u001b[1;33m)\u001b[0m\u001b[1;33m\u001b[0m\u001b[1;33m\u001b[0m\u001b[0m\n\u001b[0;32m    345\u001b[0m         \u001b[1;32mif\u001b[0m \u001b[0mresponse\u001b[0m\u001b[1;33m:\u001b[0m\u001b[1;33m\u001b[0m\u001b[1;33m\u001b[0m\u001b[0m\n\u001b[1;32m--> 346\u001b[1;33m             \u001b[0mself\u001b[0m\u001b[1;33m.\u001b[0m\u001b[0merror_handler\u001b[0m\u001b[1;33m.\u001b[0m\u001b[0mcheck_response\u001b[0m\u001b[1;33m(\u001b[0m\u001b[0mresponse\u001b[0m\u001b[1;33m)\u001b[0m\u001b[1;33m\u001b[0m\u001b[1;33m\u001b[0m\u001b[0m\n\u001b[0m\u001b[0;32m    347\u001b[0m             \u001b[0mresponse\u001b[0m\u001b[1;33m[\u001b[0m\u001b[1;34m\"value\"\u001b[0m\u001b[1;33m]\u001b[0m \u001b[1;33m=\u001b[0m \u001b[0mself\u001b[0m\u001b[1;33m.\u001b[0m\u001b[0m_unwrap_value\u001b[0m\u001b[1;33m(\u001b[0m\u001b[0mresponse\u001b[0m\u001b[1;33m.\u001b[0m\u001b[0mget\u001b[0m\u001b[1;33m(\u001b[0m\u001b[1;34m\"value\"\u001b[0m\u001b[1;33m,\u001b[0m \u001b[1;32mNone\u001b[0m\u001b[1;33m)\u001b[0m\u001b[1;33m)\u001b[0m\u001b[1;33m\u001b[0m\u001b[1;33m\u001b[0m\u001b[0m\n\u001b[0;32m    348\u001b[0m             \u001b[1;32mreturn\u001b[0m \u001b[0mresponse\u001b[0m\u001b[1;33m\u001b[0m\u001b[1;33m\u001b[0m\u001b[0m\n",
      "\u001b[1;32m~\\anaconda3\\lib\\site-packages\\selenium\\webdriver\\remote\\errorhandler.py\u001b[0m in \u001b[0;36mcheck_response\u001b[1;34m(self, response)\u001b[0m\n\u001b[0;32m    243\u001b[0m                 \u001b[0malert_text\u001b[0m \u001b[1;33m=\u001b[0m \u001b[0mvalue\u001b[0m\u001b[1;33m[\u001b[0m\u001b[1;34m\"alert\"\u001b[0m\u001b[1;33m]\u001b[0m\u001b[1;33m.\u001b[0m\u001b[0mget\u001b[0m\u001b[1;33m(\u001b[0m\u001b[1;34m\"text\"\u001b[0m\u001b[1;33m)\u001b[0m\u001b[1;33m\u001b[0m\u001b[1;33m\u001b[0m\u001b[0m\n\u001b[0;32m    244\u001b[0m             \u001b[1;32mraise\u001b[0m \u001b[0mexception_class\u001b[0m\u001b[1;33m(\u001b[0m\u001b[0mmessage\u001b[0m\u001b[1;33m,\u001b[0m \u001b[0mscreen\u001b[0m\u001b[1;33m,\u001b[0m \u001b[0mstacktrace\u001b[0m\u001b[1;33m,\u001b[0m \u001b[0malert_text\u001b[0m\u001b[1;33m)\u001b[0m  \u001b[1;31m# type: ignore[call-arg]  # mypy is not smart enough here\u001b[0m\u001b[1;33m\u001b[0m\u001b[1;33m\u001b[0m\u001b[0m\n\u001b[1;32m--> 245\u001b[1;33m         \u001b[1;32mraise\u001b[0m \u001b[0mexception_class\u001b[0m\u001b[1;33m(\u001b[0m\u001b[0mmessage\u001b[0m\u001b[1;33m,\u001b[0m \u001b[0mscreen\u001b[0m\u001b[1;33m,\u001b[0m \u001b[0mstacktrace\u001b[0m\u001b[1;33m)\u001b[0m\u001b[1;33m\u001b[0m\u001b[1;33m\u001b[0m\u001b[0m\n\u001b[0m",
      "\u001b[1;31mInvalidSelectorException\u001b[0m: Message: invalid selector: An invalid or illegal selector was specified\n  (Session info: chrome=115.0.5790.170); For documentation on this error, please visit: https://www.selenium.dev/documentation/webdriver/troubleshooting/errors#invalid-selector-exception\nStacktrace:\nBacktrace:\n\tGetHandleVerifier [0x00CA6E73+48323]\n\t(No symbol) [0x00C39661]\n\t(No symbol) [0x00B45308]\n\t(No symbol) [0x00B48751]\n\t(No symbol) [0x00B49991]\n\t(No symbol) [0x00B49A30]\n\t(No symbol) [0x00B707BC]\n\t(No symbol) [0x00B70CDB]\n\t(No symbol) [0x00B9E40C]\n\t(No symbol) [0x00B8A924]\n\t(No symbol) [0x00B9CAC2]\n\t(No symbol) [0x00B8A6D6]\n\t(No symbol) [0x00B6847C]\n\t(No symbol) [0x00B6957D]\n\tGetHandleVerifier [0x00F0FD5D+2575277]\n\tGetHandleVerifier [0x00F4F86E+2836158]\n\tGetHandleVerifier [0x00F496DC+2811180]\n\tGetHandleVerifier [0x00D341B0+626688]\n\t(No symbol) [0x00C4314C]\n\t(No symbol) [0x00C3F4B8]\n\t(No symbol) [0x00C3F59B]\n\t(No symbol) [0x00C321B7]\n\tBaseThreadInitThunk [0x74D700C9+25]\n\tRtlGetAppContainerNamedObjectPath [0x76F17B1E+286]\n\tRtlGetAppContainerNamedObjectPath [0x76F17AEE+238]\n"
     ]
    }
   ],
   "source": [
    "# # Searching for location: London\n",
    "# xpath_input = '//input[@class=\"native-input body-1-reg\"]'\n",
    "# xpath_input = '//*[@id=\"__layout\"]/div/div[2]/div[2]/div[2]/div/div/div/div[1]/div[1]/div/div[2]/input'\n",
    "xpath_input = '//header[@class=\"header\"]'\n",
    "# xpath_input = '//div[@class=\"search-form-container\"]/div/div/div/div/div/div/div[@class=\"input-wrapper\"]/input'\n",
    "\n",
    "#InvalidSelectorException \n",
    "\n",
    "loc_input = driver.find_elements(By.NAME, xpath_input)\n",
    "print(len(loc_input))\n",
    "# loc_input[0].send_keys(location)\n",
    "# loc_input.send_keys(Keys.RETURN)\n",
    "print('Searching...')\n"
   ]
  }
 ],
 "metadata": {
  "kernelspec": {
   "display_name": "Python 3 (ipykernel)",
   "language": "python",
   "name": "python3"
  },
  "language_info": {
   "codemirror_mode": {
    "name": "ipython",
    "version": 3
   },
   "file_extension": ".py",
   "mimetype": "text/x-python",
   "name": "python",
   "nbconvert_exporter": "python",
   "pygments_lexer": "ipython3",
   "version": "3.9.13"
  }
 },
 "nbformat": 4,
 "nbformat_minor": 5
}
